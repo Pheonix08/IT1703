{
  "nbformat": 4,
  "nbformat_minor": 0,
  "metadata": {
    "colab": {
      "provenance": [],
      "authorship_tag": "ABX9TyNrd4Gih0Zp/pUDy0gPfr3A",
      "include_colab_link": true
    },
    "kernelspec": {
      "name": "python3",
      "display_name": "Python 3"
    },
    "language_info": {
      "name": "python"
    }
  },
  "cells": [
    {
      "cell_type": "markdown",
      "metadata": {
        "id": "view-in-github",
        "colab_type": "text"
      },
      "source": [
        "<a href=\"https://colab.research.google.com/github/Pheonix08/IT1703/blob/main/Anil_Kantipudi%20sample.ipynb\" target=\"_parent\"><img src=\"https://colab.research.google.com/assets/colab-badge.svg\" alt=\"Open In Colab\"/></a>"
      ]
    },
    {
      "cell_type": "code",
      "execution_count": null,
      "metadata": {
        "colab": {
          "base_uri": "https://localhost:8080/"
        },
        "id": "IvsxjeufQYgV",
        "outputId": "f788e3bc-30ed-4339-dbf8-a91ca94865d2"
      },
      "outputs": [
        {
          "output_type": "stream",
          "name": "stdout",
          "text": [
            "hello I am AK\n"
          ]
        }
      ],
      "source": [
        "print ('hello I am AK')"
      ]
    },
    {
      "cell_type": "code",
      "source": [
        "print ('This course is IT7103')"
      ],
      "metadata": {
        "colab": {
          "base_uri": "https://localhost:8080/"
        },
        "id": "14_jaza7QyWW",
        "outputId": "95a77285-e10d-444d-d281-5650b5177032"
      },
      "execution_count": null,
      "outputs": [
        {
          "output_type": "stream",
          "name": "stdout",
          "text": [
            "This course is IT7103\n"
          ]
        }
      ]
    },
    {
      "cell_type": "markdown",
      "source": [
        "hello\n",
        "This course is practical Data Analytics"
      ],
      "metadata": {
        "id": "b5hV6qXYRaFd"
      }
    },
    {
      "cell_type": "code",
      "source": [
        "!pwd\n"
      ],
      "metadata": {
        "colab": {
          "base_uri": "https://localhost:8080/"
        },
        "id": "ayzesVzsRA4Q",
        "outputId": "95dcc4b9-6088-4fc4-d6a7-cacc44e989a8"
      },
      "execution_count": null,
      "outputs": [
        {
          "output_type": "stream",
          "name": "stdout",
          "text": [
            "/content\n"
          ]
        }
      ]
    },
    {
      "cell_type": "code",
      "source": [
        "import pandas as pd\n"
      ],
      "metadata": {
        "id": "OGU558-LWgNl"
      },
      "execution_count": null,
      "outputs": []
    }
  ]
}